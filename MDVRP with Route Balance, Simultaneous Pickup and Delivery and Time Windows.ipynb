{
 "cells": [
  {
   "cell_type": "code",
   "execution_count": 1,
   "id": "987262db",
   "metadata": {},
   "outputs": [],
   "source": [
    "import numpy as np\n",
    "import matplotlib.pyplot as plt\n",
    "import statistics\n",
    "import random"
   ]
  },
  {
   "cell_type": "code",
   "execution_count": 2,
   "id": "b1df098a",
   "metadata": {},
   "outputs": [],
   "source": [
    "rnd = np.random\n",
    "rnd.seed(3)"
   ]
  },
  {
   "cell_type": "code",
   "execution_count": 3,
   "id": "30129a1d",
   "metadata": {},
   "outputs": [],
   "source": [
    "# No of depots\n",
    "I = 3\n",
    "\n",
    "# No of customers\n",
    "J = 25\n",
    "\n",
    "# No of vehicles\n",
    "K = 4\n",
    "\n",
    "# price of route balance compared to logistical cost\n",
    "W = 0.4"
   ]
  },
  {
   "cell_type": "code",
   "execution_count": 4,
   "id": "7662aa62",
   "metadata": {},
   "outputs": [],
   "source": [
    "xc = rnd.rand(I+J)*200\n",
    "yc = rnd.rand(I+J)*100"
   ]
  },
  {
   "cell_type": "code",
   "execution_count": 5,
   "id": "2bb622e8",
   "metadata": {},
   "outputs": [
    {
     "data": {
      "image/png": "[encoded data removed]",
      "text/plain": [
       "<Figure size 640x480 with 1 Axes>"
      ]
     },
     "metadata": {},
     "output_type": "display_data"
    }
   ],
   "source": [
    "def plot_init(xc, yc):\n",
    "    # Mark the depots with labels and red color\n",
    "    for i in range(len(xc)):\n",
    "        label = f'D{i}' if i < I else f'C{i - I}'\n",
    "        color = 'red' if i < I else 'blue'  # Mark depots with red and customers with blue\n",
    "        plt.scatter(xc[i], yc[i], marker='D', s=10, color=color)\n",
    "        plt.text(xc[i], yc[i], label, fontsize=7, color='black', ha='right', va='bottom')\n",
    "\n",
    "#     plt.title('MDVRP - Vehicle Paths')\n",
    "    plt.xlabel('X-coordinate')\n",
    "    plt.ylabel('Y-coordinate')\n",
    "    plt.savefig(\"initial2.png\")\n",
    "#     plt.grid(True)\n",
    "    plt.show()\n",
    "\n",
    "# Plot the paths with labels and mark depots with red color\n",
    "plot_init(xc, yc)"
   ]
  },
  {
   "cell_type": "code",
   "execution_count": 6,
   "id": "28ed1740",
   "metadata": {},
   "outputs": [],
   "source": [
    "# Set of all depots\n",
    "IS = [i for i in range(0,I)]\n",
    "\n",
    "# Set of all customers\n",
    "JS = [j for j in range(I, I+J)]\n",
    "\n",
    "# Set of all vehicles\n",
    "KS = [k for k in range(0,K)]\n",
    "\n",
    "# U is IUJ\n",
    "U = IS + JS\n",
    "\n",
    "# All pairs of (i,j)\n",
    "A = [(i,j) for i in U for j in U]\n",
    "\n",
    "# All pairs of (i,j,k)\n",
    "B = [(i,j,k) for i,j in A for k in KS]\n",
    "\n",
    "# Distance matrix\n",
    "c = {(i,j): np.hypot(xc[i]-xc[j],yc[i]-yc[j]) for i,j in A}\n",
    "\n",
    "# Time matrix\n",
    "t = {(i,j): np.hypot(xc[i]-xc[j],yc[i]-yc[j])/10 for i,j in A}\n",
    "\n",
    "# Demand of customer, it is negative in case of delivery, excluding 0\n",
    "PD = {j: rnd.choice(list(range(1, 11))) for j in JS}\n",
    "DD = {j: rnd.choice(list(range(1, 11))) for j in JS}\n",
    "d = {j: DD[j] - PD[j] for j in JS}\n",
    "\n",
    "#Capacity of vehicles\n",
    "Q = [100, 50, 100, 150]\n",
    "\n",
    "# Start time\n",
    "a = {j: rnd.randint(1,10) for j in JS}\n",
    "\n",
    "# End time\n",
    "b = {j: a[j] + rnd.randint(1,50) for j in JS}\n",
    "\n",
    "# For satisfying time constraint\n",
    "M = 1000000"
   ]
  },
  {
   "cell_type": "code",
   "execution_count": 7,
   "id": "86148ca4",
   "metadata": {},
   "outputs": [
    {
     "name": "stdout",
     "output_type": "stream",
     "text": [
      "Set parameter Username\n",
      "Academic license - for non-commercial use only - expires 2024-08-30\n"
     ]
    }
   ],
   "source": [
    "from gurobipy import Model, GRB, quicksum\n",
    "model = Model('MDVRPSPD')\n",
    "x = model.addVars(B, vtype=GRB.BINARY)\n",
    "l = model.addVars(B, vtype=GRB.CONTINUOUS, lb=0)\n",
    "u = model.addVars(U, vtype=GRB.CONTINUOUS, lb=0)\n",
    "maxD = model.addVar(vtype=GRB.CONTINUOUS, lb=0)\n",
    "minD = model.addVar(vtype=GRB.CONTINUOUS, lb=0)"
   ]
  },
  {
   "cell_type": "markdown",
   "id": "90216414",
   "metadata": {},
   "source": [
    "## Objective Function"
   ]
  },
  {
   "cell_type": "code",
   "execution_count": 8,
   "id": "efc3d45a",
   "metadata": {},
   "outputs": [],
   "source": [
    "model.modelSense = GRB.MINIMIZE\n",
    "\n",
    "# To minimize total cost\n",
    "model.setObjective((1-W) * quicksum(quicksum(x[i, j, k] for k in KS) * c[i, j] for i, j in A) + W * (maxD - minD))"
   ]
  },
  {
   "cell_type": "markdown",
   "id": "3f13f51e",
   "metadata": {},
   "source": [
    "# Constraints"
   ]
  },
  {
   "cell_type": "code",
   "execution_count": 9,
   "id": "e918a220",
   "metadata": {},
   "outputs": [
    {
     "data": {
      "text/plain": [
       "{0: <gurobi.Constr *Awaiting Model Update*>,\n",
       " 1: <gurobi.Constr *Awaiting Model Update*>,\n",
       " 2: <gurobi.Constr *Awaiting Model Update*>,\n",
       " 3: <gurobi.Constr *Awaiting Model Update*>}"
      ]
     },
     "execution_count": 9,
     "metadata": {},
     "output_type": "execute_result"
    }
   ],
   "source": [
    "# Each customer has to be served by only 1 vehicle of type k coming from either depot or other customer\n",
    "model.addConstrs(quicksum(quicksum(x[i,j,k] for i in U) for k in KS) == 1 for j in JS)\n",
    "\n",
    "# Self visit should not be there\n",
    "model.addConstrs(x[i,i,k] == 0 for i in U for k in KS)\n",
    "\n",
    "# Capacity constraint for vehicles in case of simultaneous pickup and delivery\n",
    "model.addConstrs(l[i,j,k] <= x[i,j,k] * Q[k] for i,j in A for k in KS)\n",
    "\n",
    "# Flow Conservation Constraint w.r.t. vehicles\n",
    "model.addConstrs(quicksum(x[i,j,k] for i in U) == quicksum(x[j,i,k] for i in U) for k in KS for j in U)\n",
    "\n",
    "# Load balance for pickup and delivery both (satisfy demand and pickup)\n",
    "model.addConstrs(quicksum(l[j,i,k] for i in U) - quicksum(l[i,j,k] for i in U) == d[j] * quicksum(x[i,j,k] for i in U) for k in KS for j in JS)\n",
    "\n",
    "# To make sure that in the path of each vehicle maximum one depot is there\n",
    "model.addConstrs(quicksum(quicksum(x[i,j,k] for j in U) for i in IS) <= 1 for k in KS)\n",
    "\n",
    "# MTZ(Miller,Tucker,Zemlin) subtour elimination constraint\n",
    "model.addConstrs((u[j] - u[i] >= t[i,j] - M * (1 - x[i,j,k]) for j in JS for i in JS for k in KS))\n",
    "\n",
    "# Each customer must be visited within its time window\n",
    "model.addConstrs((a[j] <= u[j] for j in JS))\n",
    "model.addConstrs((u[j] <= b[j] for j in JS))\n",
    "\n",
    "# Finding maximum distance travelled by any vehicle\n",
    "model.addConstrs(quicksum(c[i,j] * x[i,j,k] for i,j in A) <= maxD for k in KS)\n",
    "\n",
    "# Finding minimum distance travelled by any vehicle\n",
    "model.addConstrs(quicksum(c[i,j] * x[i,j,k] for i,j in A) >= minD for k in KS)"
   ]
  },
  {
   "cell_type": "code",
   "execution_count": 10,
   "id": "f51e754f",
   "metadata": {},
   "outputs": [],
   "source": [
    "model.write('model.lp')"
   ]
  },
  {
   "cell_type": "code",
   "execution_count": 11,
   "id": "12d57337",
   "metadata": {},
   "outputs": [
    {
     "name": "stdout",
     "output_type": "stream",
     "text": [
      "Set parameter MIPGap to value 0.05\n",
      "Set parameter TimeLimit to value 1000\n",
      "Gurobi Optimizer version 10.0.2 build v10.0.2rc0 (win64)\n",
      "\n",
      "CPU model: Intel(R) Core(TM) i5-8265U CPU @ 1.60GHz, instruction set [SSE2|AVX|AVX2]\n",
      "Thread count: 4 physical cores, 8 logical processors, using up to 8 threads\n",
      "\n",
      "Optimize a model with 6047 rows, 6302 columns and 36614 nonzeros\n",
      "Model fingerprint: 0xc7a9c2ef\n",
      "Variable types: 3166 continuous, 3136 integer (3136 binary)\n",
      "Coefficient statistics:\n",
      "  Matrix range     [1e+00, 1e+06]\n",
      "  Objective range  [4e-01, 1e+02]\n",
      "  Bounds range     [1e+00, 1e+00]\n",
      "  RHS range        [1e+00, 1e+06]\n",
      "Presolve removed 918 rows and 795 columns\n",
      "Presolve time: 0.27s\n",
      "Presolved: 5129 rows, 5507 columns, 47170 nonzeros\n",
      "Variable types: 2767 continuous, 2740 integer (2740 binary)\n",
      "\n",
      "Root relaxation: objective 2.430283e+02, 4817 iterations, 2.40 seconds (0.48 work units)\n",
      "\n",
      "    Nodes    |    Current Node    |     Objective Bounds      |     Work\n",
      " Expl Unexpl |  Obj  Depth IntInf | Incumbent    BestBd   Gap | It/Node Time\n",
      "\n",
      "     0     0  243.02833    0  116          -  243.02833      -     -    3s\n",
      "     0     0  291.48115    0   93          -  291.48115      -     -    6s\n",
      "     0     0  294.58622    0  117          -  294.58622      -     -    8s\n",
      "     0     0  294.63171    0  111          -  294.63171      -     -    9s\n",
      "     0     0  294.66469    0  127          -  294.66469      -     -   10s\n",
      "     0     0  294.66469    0  118          -  294.66469      -     -   11s\n",
      "     0     0  300.42483    0  123          -  300.42483      -     -   13s\n",
      "     0     0  303.23533    0  162          -  303.23533      -     -   14s\n",
      "     0     0  303.27895    0  128          -  303.27895      -     -   15s\n",
      "     0     0  303.36885    0  130          -  303.36885      -     -   16s\n",
      "     0     0  303.36885    0  125          -  303.36885      -     -   16s\n",
      "     0     0  303.63602    0  108          -  303.63602      -     -   17s\n",
      "     0     0  304.32979    0  105          -  304.32979      -     -   17s\n",
      "     0     0  305.73785    0  126          -  305.73785      -     -   18s\n",
      "     0     0  306.81859    0  127          -  306.81859      -     -   19s\n",
      "     0     0  307.31409    0  153          -  307.31409      -     -   19s\n",
      "     0     0  307.31409    0  151          -  307.31409      -     -   19s\n",
      "     0     0  307.85968    0  160          -  307.85968      -     -   20s\n",
      "     0     0  307.89754    0  125          -  307.89754      -     -   20s\n",
      "     0     0  307.89754    0  124          -  307.89754      -     -   20s\n",
      "     0     0  308.06894    0  131          -  308.06894      -     -   21s\n",
      "     0     0  308.06894    0  137          -  308.06894      -     -   21s\n",
      "     0     0  308.10990    0  155          -  308.10990      -     -   22s\n",
      "     0     0  308.13702    0  126          -  308.13702      -     -   22s\n",
      "     0     0  308.13702    0  126          -  308.13702      -     -   22s\n",
      "     0     0  308.39426    0  158          -  308.39426      -     -   22s\n",
      "     0     0  308.96068    0  158          -  308.96068      -     -   23s\n",
      "     0     0  309.00222    0  145          -  309.00222      -     -   23s\n",
      "     0     0  309.00222    0  141          -  309.00222      -     -   23s\n",
      "     0     0  310.82736    0  144          -  310.82736      -     -   23s\n",
      "     0     0  311.46086    0  164          -  311.46086      -     -   24s\n",
      "     0     0  311.46103    0  164          -  311.46103      -     -   24s\n",
      "     0     0  311.59327    0  169          -  311.59327      -     -   25s\n",
      "     0     0  311.75202    0  160          -  311.75202      -     -   25s\n",
      "     0     0  311.75202    0  162          -  311.75202      -     -   25s\n",
      "     0     0  311.78547    0  150          -  311.78547      -     -   25s\n",
      "     0     0  311.78560    0  150          -  311.78560      -     -   26s\n",
      "     0     0  311.78560    0  141          -  311.78560      -     -   26s\n",
      "     0     0  311.78560    0  141          -  311.78560      -     -   26s\n",
      "     0     0  311.78560    0  141          -  311.78560      -     -   27s\n",
      "     0     0  311.78560    0  141          -  311.78560      -     -   27s\n",
      "     0     2  312.10748    0  129          -  312.10748      -     -   31s\n",
      "    35    39  315.19925   10  125          -  313.75062      -   457   35s\n",
      "    73    79  316.14523   18  149          -  313.75062      -   477   40s\n",
      "   138   145  318.43002   32  117          -  313.75062      -   420   45s\n",
      "   192   206  321.45613   41  123          -  313.75062      -   448   50s\n",
      "   292   308  326.23857   55  140          -  313.75062      -   411   55s\n",
      "   465   480  328.10212   85  145          -  313.75062      -   374   60s\n",
      "   606   626  330.29035  123  136          -  313.75062      -   366   65s\n",
      "   762   795  333.02639  154  146          -  313.75062      -   357   70s\n",
      "   952   984  335.44455  199  146          -  313.75062      -   341   75s\n",
      "  1078  1122  347.85685  225  107          -  313.75062      -   349   80s\n",
      "  1323  1433  353.22422  256  123          -  313.75062      -   328   87s\n",
      "  1450  1549  484.30252  278   98          -  313.75062      -   312   91s\n",
      "  1695  1843  584.99162  342   68          -  313.75062      -   291  101s\n",
      "  1863  1974  593.82552  426   75          -  313.75062      -   275  107s\n",
      "  2013  2067  663.50546  500   48          -  314.01702      -   266  112s\n",
      "  2135  2125  317.68751   12  124          -  314.01702      -   262  117s\n",
      "  2194  2126  338.42943   36  141          -  314.01702      -   266  129s\n",
      "  2196  2127  334.32391  183  125          -  314.01702      -   266  134s\n",
      "  2197  2128  328.84322   22  114          -  314.01702      -   266  139s\n",
      "  2198  2129  418.18194  111  119          -  314.01702      -   266  140s\n",
      "  2201  2131  374.25920  249  142          -  314.01702      -   265  146s\n",
      "  2204  2133  341.05779   97  143          -  319.07693      -   265  152s\n",
      "H 2205  2026                     572.2760569  319.41631  44.2%   265  154s\n",
      "H 2206  1925                     564.8416304  319.41631  43.5%   265  157s\n",
      "H 2206  1829                     546.6227794  321.02756  41.3%   265  159s\n",
      "  2208  1830  359.18284   82  158  546.62278  321.07632  41.3%   264  160s\n",
      "  2211  1832  321.72766   30  135  546.62278  321.72766  41.1%   264  168s\n",
      "  2212  1833  349.34911  160  104  546.62278  321.79322  41.1%   264  171s\n",
      "H 2213  1742                     535.2590165  321.89821  39.9%   264  174s\n",
      "H 2214  1654                     527.7922094  321.89821  39.0%   264  176s\n",
      "H 2215  1572                     526.4433833  322.38014  38.8%   264  179s\n",
      "  2216  1573  432.87344  438  149  526.44338  322.38258  38.8%   263  180s\n",
      "H 2217  1494                     517.0100829  322.44253  37.6%   263  186s\n",
      "  2220  1496  517.01008  343  158  517.01008  322.76535  37.6%   263  190s\n",
      "  2224  1499  517.01008  377  183  517.01008  323.12673  37.5%   263  196s\n",
      "  2226  1500  347.42802   12  148  517.01008  323.15070  37.5%   262  201s\n",
      "  2230  1503  329.55384    9  185  517.01008  323.52295  37.4%   262  205s\n",
      "  2233  1505  430.88867  488  188  517.01008  323.57009  37.4%   261  211s\n",
      "  2237  1508  382.89871  174  182  517.01008  323.64543  37.4%   261  215s\n",
      "  2240  1510  383.06590  364  150  517.01008  323.65682  37.4%   261  221s\n",
      "  2245  1513  332.82350   49  146  517.01008  323.75816  37.4%   260  225s\n",
      "H 2246  1437                     509.8514506  323.76570  36.5%   260  230s\n",
      "  2248  1438  509.85145  520  180  509.85145  323.77442  36.5%   260  235s\n",
      "  2255  1444  363.24765  273  125  509.85145  323.79683  36.5%   283  242s\n",
      "H 2255  1371                     509.7888746  323.79683  36.5%   283  245s\n",
      "  2261  1375  482.93736   81  168  509.78887  323.79683  36.5%   282  250s\n",
      "H 2262  1307                     499.9907752  323.79683  35.2%   282  251s\n",
      "  2265  1309  350.06091   90  168  499.99078  323.79683  35.2%   282  257s\n",
      "  2266  1310  353.85402   72  173  499.99078  323.79690  35.2%   282  260s\n",
      "  2269  1312  333.30789  115  157  499.99078  323.84238  35.2%   281  265s\n",
      "H 2269  1246                     498.7778669  323.84346  35.1%   281  266s\n",
      "H 2271  1185                     491.6643875  323.86972  34.1%   281  269s\n",
      "  2272  1186  349.21118  158  184  491.66439  323.87864  34.1%   281  270s\n",
      "  2274  1187  365.47285  288  161  491.66439  323.99056  34.1%   281  275s\n"
     ]
    },
    {
     "name": "stdout",
     "output_type": "stream",
     "text": [
      "H 2275  1128                     490.5732804  324.01402  34.0%   281  280s\n",
      "H 2278  1073                     457.0205406  324.05292  29.1%   280  286s\n",
      "  2280  1074  327.32093   11  209  457.02054  324.09021  29.1%   280  290s\n",
      "  2282  1075  362.32660  228  212  457.02054  324.09420  29.1%   280  295s\n",
      "  2285  1077  457.02054  373  209  457.02054  324.09598  29.1%   279  302s\n",
      "  2287  1082  324.41165   25  170  457.02054  324.41165  29.0%   296  305s\n",
      "  2305  1096  326.68748   28  135  457.02054  324.41165  29.0%   302  310s\n",
      "  2326  1110  325.20568   31  101  457.02054  324.41165  29.0%   307  315s\n",
      "  2356  1130  330.72208   34   91  457.02054  324.41165  29.0%   311  320s\n",
      "  2378  1147  345.77647   36  100  457.02054  324.41165  29.0%   318  325s\n",
      "H 2404  1106                     456.5695454  324.41165  28.9%   321  335s\n",
      "H 2407  1053                     450.8330123  324.41165  28.0%   321  335s\n",
      "  2427  1076  332.59054   41  103  450.83301  324.41165  28.0%   327  340s\n",
      "  2477  1098  354.24061   45  117  450.83301  324.41165  28.0%   331  347s\n",
      "  2504  1121  355.18928   47   89  450.83301  324.41165  28.0%   332  350s\n",
      "  2558  1144  363.72461   52   85  450.83301  324.41165  28.0%   335  355s\n",
      "  2576  1143  374.80344   53  106  450.83301  324.41165  28.0%   338  360s\n",
      "  2620  1157     cutoff   60       450.83301  324.41165  28.0%   342  365s\n",
      "  2675  1163  348.59936   30   70  450.83301  324.41165  28.0%   342  370s\n",
      "  2725  1201  338.07284   33  117  450.83301  324.41165  28.0%   345  377s\n",
      "  2768  1232  341.66901   35   99  450.83301  324.41165  28.0%   347  382s\n",
      "  2816  1260  342.22657   38   75  450.83301  324.41165  28.0%   347  387s\n",
      "  2844  1273  342.63396   42  101  450.83301  324.41165  28.0%   349  390s\n",
      "  2911  1298  343.44446   49   97  450.83301  324.41165  28.0%   350  397s\n",
      "  2924  1341  343.68321   50   87  450.83301  324.41165  28.0%   349  402s\n",
      "  2981  1353  345.01684   57  107  450.83301  324.41165  28.0%   346  405s\n",
      "  3081  1371  345.57258   67  110  450.83301  324.41165  28.0%   341  413s\n",
      "  3135  1372  347.77291   74   86  450.83301  324.41165  28.0%   339  417s\n",
      "  3197  1369  348.96594   79  107  450.83301  324.41165  28.0%   335  420s\n",
      "  3252  1389  349.59340   84   94  450.83301  324.41165  28.0%   333  426s\n",
      "  3301  1422  394.15296   93   79  450.83301  324.41165  28.0%   335  430s\n",
      "  3357  1430  357.25932  110   95  450.83301  324.41165  28.0%   335  435s\n",
      "  3489  1542  371.86425  150   93  450.83301  324.41165  28.0%   331  443s\n",
      "  3567  1589  373.61932  178   92  450.83301  324.41165  28.0%   329  448s\n",
      "  3667  1637  374.97222  205   85  450.83301  324.41165  28.0%   325  452s\n",
      "  3825  1666  379.02177  241   80  450.83301  325.45612  27.8%   316  457s\n",
      "  4009  1681  325.96589   29  149  450.83301  325.45612  27.8%   306  462s\n",
      "  4122  1740  328.44933   38   96  450.83301  325.45612  27.8%   304  466s\n",
      "  4219  1859  330.11553   42  121  450.83301  325.45612  27.8%   302  471s\n",
      "  4379  1939  342.94009   53   74  450.83301  325.45612  27.8%   297  476s\n",
      "  4531  1986  350.46862   83  100  450.83301  325.45612  27.8%   295  481s\n",
      "  4640  2135  359.43561   98   91  450.83301  325.45612  27.8%   295  487s\n",
      "  4827  2192  366.60916  134   93  450.83301  325.45612  27.8%   289  492s\n",
      "  4972  2241  371.09933  169   91  450.83301  325.45612  27.8%   287  497s\n",
      "  5098  2359  416.21351  197   70  450.83301  325.45612  27.8%   288  504s\n",
      "  5310  2496  402.49167  278   57  450.83301  326.05728  27.7%   289  510s\n",
      "  5510  2605  326.39837   32  182  450.83301  326.39837  27.6%   289  515s\n",
      "  5633  2718  330.57313   38  105  450.83301  326.47285  27.6%   294  523s\n",
      "  5811  2880  340.07262   51  112  450.83301  326.47285  27.6%   297  529s\n",
      "  5980  3042  387.24845   66  108  450.83301  326.47285  27.6%   299  537s\n",
      "  6200  3203  370.62574   83  119  450.83301  326.47285  27.6%   300  543s\n",
      "  6432  3393  400.03111  137   78  450.83301  326.65600  27.5%   300  551s\n",
      "  6759  3638  361.38081   43  103  450.83301  326.90675  27.5%   297  559s\n",
      "  7077  3878  433.63923  105   81  450.83301  327.12787  27.4%   293  568s\n",
      "  7514  4153  447.08682  127   37  450.83301  327.31731  27.4%   286  576s\n",
      "  7875  4222  344.79293   46  120  450.83301  327.31731  27.4%   284  586s\n",
      "  7970  4507  344.03247   54  126  450.83301  327.31731  27.4%   287  594s\n",
      "  8321  4710  353.51422   77   77  450.83301  327.31731  27.4%   286  601s\n",
      "  8586  4921  361.87634  106   71  450.83301  327.31731  27.4%   287  612s\n",
      "  8852  4937  389.73678  145   77  450.83301  327.31731  27.4%   286  626s\n",
      "  8872  5102  394.15573  149   57  450.83301  327.98809  27.2%   286  634s\n",
      "  9164  5308  337.04182   53   92  450.83301  328.36017  27.2%   283  643s\n",
      "  9465  5459  387.39213   43   62  450.83301  328.44351  27.1%   285  656s\n",
      "  9626  5713  384.80348   71   76  450.83301  328.44351  27.1%   290  673s\n",
      "  9941  6075  416.11374   98   55  450.83301  328.44351  27.1%   293  686s\n",
      " 10410  6506  392.87753  134   72  450.83301  328.44351  27.1%   291  703s\n",
      " 10964  6649  398.13086  192   82  450.83301  329.03731  27.0%   291  712s\n",
      " 11218  6986  336.21024   38  124  450.83301  329.80329  26.8%   291  726s\n",
      " 11624  7387  343.70949   46  102  450.83301  329.83127  26.8%   288  738s\n",
      " 12095  7627  394.95280  154   66  450.83301  329.87526  26.8%   284  747s\n",
      "H12303  7617                     450.1264509  329.87526  26.7%   284  747s\n",
      " 12375  7954  383.60217   58   96  450.12645  329.99946  26.7%   284  759s\n",
      " 12754  8086  410.87443   84   59  450.12645  330.06534  26.7%   283  807s\n",
      "H12788  7929                     444.3761312  330.06534  25.7%   283  807s\n",
      " 12894  8064  422.73781  119   65  444.37613  330.06534  25.7%   283  820s\n",
      " 13062  8430  425.03570  140   74  444.37613  330.07843  25.7%   283  834s\n",
      " 13496  8857  366.07756   69  120  444.37613  330.15613  25.7%   281  850s\n",
      " 14053  9190  359.30257   52  138  444.37613  330.43107  25.6%   280  866s\n",
      " 14423  9469  373.94134   86  100  444.37613  330.43107  25.6%   283  877s\n",
      " 14819  9922  399.29964  172   80  444.37613  330.50453  25.6%   286  895s\n",
      " 15496 10340  337.78842   45  104  444.37613  330.62200  25.6%   284  910s\n",
      " 16079 10697  361.84757   38  113  444.37613  330.78556  25.6%   283  923s\n",
      " 16521 11033  354.50818   50  102  444.37613  330.85752  25.5%   283  935s\n",
      " 16932 11547  333.61074   44  117  444.37613  331.00764  25.5%   282  952s\n",
      " 17527 12061  377.54981   47   92  444.37613  331.07495  25.5%   280  963s\n",
      " 18168 12340  411.16114  173   62  444.37613  331.13904  25.5%   277  975s\n",
      " 18604 12627  347.68065   48   74  444.37613  331.29723  25.4%   276  988s\n",
      " 18953 12999  434.19705  100   68  444.37613  331.47903  25.4%   277 1000s\n",
      "\n",
      "Cutting planes:\n",
      "  Learned: 1\n",
      "  Gomory: 1\n",
      "  Cover: 27\n",
      "  Implied bound: 51\n",
      "  Projected implied bound: 20\n",
      "  Clique: 2\n",
      "  MIR: 45\n",
      "  StrongCG: 1\n",
      "  Flow cover: 297\n",
      "  GUB cover: 7\n",
      "  Zero half: 53\n",
      "  Network: 24\n",
      "  RLT: 39\n",
      "  Relax-and-lift: 43\n",
      "\n",
      "Explored 19392 nodes (5387208 simplex iterations) in 1000.13 seconds (608.60 work units)\n",
      "Thread count was 8 (of 8 available processors)\n",
      "\n",
      "Solution count 10: 444.376 450.126 450.833 ... 509.789\n",
      "\n",
      "Time limit reached\n",
      "Best objective 4.443761312010e+02, best bound 3.314790337408e+02, gap 25.4058%\n"
     ]
    }
   ],
   "source": [
    "model.Params.MIPGap = 0.05\n",
    "model.Params.TimeLimit = 1000\n",
    "model.optimize()"
   ]
  },
  {
   "cell_type": "code",
   "execution_count": 12,
   "id": "25d7e5d4",
   "metadata": {},
   "outputs": [
    {
     "name": "stdout",
     "output_type": "stream",
     "text": [
      "Vehicle 0 travels a distance of 154.9007943848881 starting from depot 0 following path [0, 15, 12, 14, 25, 21, 24, 0]\n",
      "1 Starting from depot 0 at time 0.0\n",
      "2 Customer 15 at time 5.0 and time window is 5 to 19\n",
      "3 Customer 12 at time 10.0 and time window is 5 to 10\n",
      "4 Customer 14 at time 11.476041435496882 and time window is 9 to 51\n",
      "5 Customer 25 at time 14.240821358864213 and time window is 2 to 31\n",
      "6 Customer 21 at time 18.307473680120893 and time window is 8 to 51\n",
      "7 Customer 24 at time 21.336099056876222 and time window is 9 to 33\n",
      "8 Back to depot 0 at time 22.602721232790564\n",
      "Total time taken 22.602721232790564\n",
      "\n",
      "Vehicle 1 travels a distance of 180.33835560070872 starting from depot 2 following path [2, 18, 6, 10, 16, 8, 2]\n",
      "1 Starting from depot 2 at time 0.0\n",
      "2 Customer 18 at time 1.0 and time window is 1 to 26\n",
      "3 Customer 6 at time 6.0 and time window is 6 to 18\n",
      "4 Customer 10 at time 7.921219616779126 and time window is 1 to 15\n",
      "5 Customer 16 at time 8.889637986663729 and time window is 2 to 16\n",
      "6 Customer 8 at time 17.950234786141664 and time window is 8 to 26\n",
      "7 Back to depot 2 at time 23.724159849311377\n",
      "Total time taken 23.724159849311377\n",
      "\n",
      "Vehicle 2 travels a distance of 200.90712865152736 starting from depot 0 following path [0, 9, 26, 13, 27, 23, 7, 20, 19, 22, 11, 0]\n",
      "1 Starting from depot 0 at time 0.0\n",
      "2 Customer 9 at time 2.0 and time window is 2 to 10\n",
      "3 Customer 26 at time 8.59871550626125 and time window is 6 to 19\n",
      "4 Customer 13 at time 9.17515505454505 and time window is 9 to 40\n",
      "5 Customer 27 at time 10.730174383264966 and time window is 4 to 33\n",
      "6 Customer 23 at time 15.0 and time window is 8 to 15\n",
      "7 Customer 7 at time 17.03312163648667 and time window is 5 to 47\n",
      "8 Customer 20 at time 19.436928219627617 and time window is 7 to 44\n",
      "9 Customer 19 at time 22.06902738998179 and time window is 6 to 54\n",
      "10 Customer 22 at time 23.0 and time window is 1 to 23\n",
      "11 Customer 11 at time 23.381974605610594 and time window is 8 to 40\n",
      "12 Back to depot 0 at time 25.869127823593928\n",
      "Total time taken 25.869127823593928\n",
      "\n",
      "Vehicle 3 travels a distance of 173.80971718685066 starting from depot 1 following path [1, 4, 5, 3, 17, 1]\n",
      "1 Starting from depot 1 at time 0.0\n",
      "2 Customer 4 at time 5.0 and time window is 5 to 21\n",
      "3 Customer 5 at time 5.574741893447932 and time window is 3 to 32\n",
      "4 Customer 3 at time 13.476581812384135 and time window is 4 to 31\n",
      "5 Customer 17 at time 15.589084685551951 and time window is 5 to 38\n",
      "6 Back to depot 1 at time 18.669793360282853\n",
      "Total time taken 18.669793360282853\n",
      "\n"
     ]
    }
   ],
   "source": [
    "# Printing the route of each vehicle along with the distance covered\n",
    "paths = []\n",
    "dist = []\n",
    "for k in KS:\n",
    "    distance = 0\n",
    "    for i,j in A:\n",
    "        distance = distance + x[i,j,k].x*c[i,j]\n",
    "    dist.append(distance)\n",
    "    path = []\n",
    "    start_node = -1\n",
    "    for i in IS:\n",
    "        flag = 0\n",
    "        for j in JS:\n",
    "            if x[i,j,k].x == 1:\n",
    "                start_node = i\n",
    "                next_node = j\n",
    "                flag = 1\n",
    "                break\n",
    "        if flag == 1:\n",
    "            break\n",
    "    path.append(start_node)\n",
    "    if start_node == -1:\n",
    "        paths.append(path)\n",
    "        continue\n",
    "    current_node = next_node\n",
    "    while current_node != start_node:\n",
    "        path.append(current_node)\n",
    "        for j in U:\n",
    "            if x[current_node,j,k].x == 1:\n",
    "                next_node = j\n",
    "                break\n",
    "        current_node = next_node\n",
    "    path.append(current_node)\n",
    "    paths.append(path)\n",
    "    \n",
    "    print(\"Vehicle\",k,\"travels a distance of\",distance,\"starting from depot\",start_node, \"following path\", path)\n",
    "    for i in range(len(path)):\n",
    "        if i == 0:\n",
    "            print(i+1,\"Starting from depot\",path[i],\"at time\",u[path[i]].x)\n",
    "        elif i == len(path)-1:\n",
    "            print(i+1,\"Back to depot\",path[i],\"at time\",u[path[i-1]].x + t[path[i-1],path[i]])\n",
    "            print(\"Total time taken\",u[path[i-1]].x + t[path[i-1],path[i]])\n",
    "        else:\n",
    "            print(i+1,\"Customer\",path[i],\"at time\",u[path[i]].x,\"and time window is\",a[path[i]],\"to\",b[path[i]])\n",
    "    print()"
   ]
  },
  {
   "cell_type": "code",
   "execution_count": 13,
   "id": "57439b63",
   "metadata": {},
   "outputs": [
    {
     "name": "stdout",
     "output_type": "stream",
     "text": [
      "Variance of distances travelled by each vehicle: 360.0972439361606\n"
     ]
    }
   ],
   "source": [
    "#Variance calculation\n",
    "variance = statistics.variance(dist)\n",
    "print(\"Variance of distances travelled by each vehicle:\", variance)"
   ]
  },
  {
   "cell_type": "code",
   "execution_count": 14,
   "id": "2bf09b2c",
   "metadata": {},
   "outputs": [
    {
     "name": "stdout",
     "output_type": "stream",
     "text": [
      "Total distance travelled: 709.9559958239748\n"
     ]
    }
   ],
   "source": [
    "print(\"Total distance travelled:\", sum(dist))"
   ]
  },
  {
   "cell_type": "code",
   "execution_count": 15,
   "id": "06a4fdb4",
   "metadata": {},
   "outputs": [
    {
     "data": {
      "image/png": "[encoded data removed]",
      "text/plain": [
       "<Figure size 640x480 with 1 Axes>"
      ]
     },
     "metadata": {},
     "output_type": "display_data"
    }
   ],
   "source": [
    "# plt.figure(figsize=(10, 6))\n",
    "\n",
    "def plot_paths(paths, xc, yc, W):\n",
    "    for i, path in enumerate(paths):\n",
    "        color = plt.cm.viridis(i / len(paths))\n",
    "        plt.plot([xc[node] for node in path], [yc[node] for node in path], marker='o', markersize=4, linestyle='-', color=color, label=f'Vehicle {i + 1}')\n",
    "\n",
    "# Mark depots with red and customers with blue\n",
    "    for i in range(len(xc)):\n",
    "        label = f'D{i+1}' if i < I else f'C{i-I+1}'\n",
    "        color = 'red' if i < I else 'blue'\n",
    "        plt.scatter(xc[i], yc[i], marker='D', s=10, color=color)\n",
    "        if i < I:\n",
    "            plt.text(xc[i], yc[i], label, fontsize=7, color='red', ha='right', va='bottom')\n",
    "        else:\n",
    "            plt.text(xc[i], yc[i], label, fontsize=7, color='black', ha='right', va='bottom')\n",
    "\n",
    "    plt.title('MDVRP - Vehicle Paths')\n",
    "    plt.xlabel('X-coordinate')\n",
    "    plt.ylabel('Y-coordinate')\n",
    "    plt.legend()\n",
    "#     plt.grid(True)\n",
    "    plt.savefig(f\"W_{W}.png\")\n",
    "    plt.show()\n",
    "\n",
    "plot_paths(paths, xc, yc, W)"
   ]
  },
  {
   "cell_type": "code",
   "execution_count": 16,
   "id": "efab230a",
   "metadata": {},
   "outputs": [
    {
     "name": "stdout",
     "output_type": "stream",
     "text": [
      "Optimization did not converge to an optimal solution.\n"
     ]
    }
   ],
   "source": [
    "if model.status == GRB.OPTIMAL:\n",
    "    print(\"Optimal solution found!\")\n",
    "else:\n",
    "    print(\"Optimization did not converge to an optimal solution.\")"
   ]
  },
  {
   "cell_type": "code",
   "execution_count": 17,
   "id": "f869bfdb",
   "metadata": {},
   "outputs": [
    {
     "name": "stdout",
     "output_type": "stream",
     "text": [
      "1   4   31   13.476581812384135\n",
      "2   5   21   5.0\n",
      "3   3   32   5.574741893447932\n",
      "4   6   18   6.0\n",
      "5   5   47   17.03312163648667\n",
      "6   8   26   17.950234786141664\n",
      "7   2   10   2.0\n",
      "8   1   15   7.921219616779126\n",
      "9   8   40   23.381974605610594\n",
      "10   5   10   10.0\n",
      "11   9   40   9.17515505454505\n",
      "12   9   51   11.476041435496882\n",
      "13   5   19   5.0\n",
      "14   2   16   8.889637986663729\n",
      "15   5   38   15.589084685551951\n",
      "16   1   26   1.0\n",
      "17   6   54   22.06902738998179\n",
      "18   7   44   19.436928219627617\n",
      "19   8   51   18.307473680120893\n",
      "20   1   23   23.0\n",
      "21   8   15   15.0\n",
      "22   9   33   21.336099056876222\n",
      "23   2   31   14.240821358864213\n",
      "24   6   19   8.59871550626125\n",
      "25   4   33   10.730174383264966\n"
     ]
    }
   ],
   "source": [
    "count=0\n",
    "for j in JS:\n",
    "    if a[j]<=u[j].x and u[j].x<=b[j]:\n",
    "        count=count+1\n",
    "    print(j-2, \" \", a[j], \" \", b[j], \" \", u[j].x)"
   ]
  },
  {
   "cell_type": "code",
   "execution_count": 18,
   "id": "0ff884b8",
   "metadata": {},
   "outputs": [
    {
     "name": "stdout",
     "output_type": "stream",
     "text": [
      "No of customers whose order is not delivered within time window 0\n"
     ]
    }
   ],
   "source": [
    "print(\"No of customers whose order is not delivered within time window\", J-count)"
   ]
  },
  {
   "cell_type": "code",
   "execution_count": null,
   "id": "212f9f46",
   "metadata": {},
   "outputs": [],
   "source": []
  }
 ],
 "metadata": {
  "kernelspec": {
   "display_name": "Python 3 (ipykernel)",
   "language": "python",
   "name": "python3"
  },
  "language_info": {
   "codemirror_mode": {
    "name": "ipython",
    "version": 3
   },
   "file_extension": ".py",
   "mimetype": "text/x-python",
   "name": "python",
   "nbconvert_exporter": "python",
   "pygments_lexer": "ipython3",
   "version": "3.11.4"
  }
 },
 "nbformat": 4,
 "nbformat_minor": 5
}
